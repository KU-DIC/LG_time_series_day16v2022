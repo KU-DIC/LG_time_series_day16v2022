{
 "cells": [
  {
   "cell_type": "code",
   "execution_count": null,
   "id": "4fffdec1-8238-4c2e-b108-a4297a68f289",
   "metadata": {},
   "outputs": [],
   "source": [
    "# !pip install -U imbalanced-learn\n",
    "# conda install -c conda-forge imbalanced-learn "
   ]
  },
  {
   "cell_type": "code",
   "execution_count": null,
   "id": "fa9d2004-0067-47c0-a4d7-7309fd72715b",
   "metadata": {},
   "outputs": [],
   "source": [
    "# !pip install tqdm\n",
    "#conda install -c conda-forge ipywidgets"
   ]
  },
  {
   "cell_type": "code",
   "execution_count": null,
   "id": "d1d02f6b-2dd9-4df9-bfdf-a0f25d5c0d9c",
   "metadata": {},
   "outputs": [],
   "source": [
    "!git clone https://github.com/KU-DIC/LG_time_series_day16.git #코랩 사용"
   ]
  },
  {
   "cell_type": "markdown",
   "id": "a6772379",
   "metadata": {},
   "source": [
    "# [모델 평가 지표]\n",
    "## 데이터 불균형 처리"
   ]
  },
  {
   "cell_type": "markdown",
   "id": "09c703c2",
   "metadata": {},
   "source": [
    "##### jupyter notebook 단축키\n",
    "\n",
    "- ctrl+enter: 셀 실행   \n",
    "- shift+enter: 셀 실행 및 다음 셀 이동   \n",
    "- alt+enter: 셀 실행, 다음 셀 이동, 새로운 셀 생성\n",
    "- a: 상단에 새로운 셀 만들기\n",
    "- b: 하단에 새로운 셀 만들기\n",
    "- dd: 셀 삭제(x: 셀 삭제)\n",
    "- 함수 ( ) 안에서 shift+tab: arguments description. shift+tab+tab은 길게 볼 수 있도록"
   ]
  },
  {
   "cell_type": "markdown",
   "id": "b731dc12",
   "metadata": {},
   "source": [
    "## 1. 모듈 불러오기"
   ]
  },
  {
   "cell_type": "code",
   "execution_count": null,
   "id": "f0e9f787",
   "metadata": {},
   "outputs": [],
   "source": [
    "''' 기본 모듈 '''\n",
    "import numpy as np\n",
    "import pandas as pd\n",
    "import scipy as sp\n",
    "import random\n",
    "\n",
    "''' 결과 평가용 모듈 '''\n",
    "from sklearn.svm import SVC\n",
    "from sklearn.metrics import classification_report, confusion_matrix\n",
    "\n",
    "''' 불균형 처리 모듈 '''\n",
    "from imblearn.under_sampling import *\n",
    "from imblearn.over_sampling import *\n",
    "# from tsai.all import *\n",
    "from tqdm.auto import tqdm\n",
    "\n",
    "import matplotlib.pyplot as plt\n",
    "from matplotlib import font_manager, rc, rcParams\n",
    "\n",
    "%matplotlib inline"
   ]
  },
  {
   "cell_type": "markdown",
   "id": "63b2bdfb",
   "metadata": {},
   "source": [
    "## 2. Imbalanced Data Problem\n",
    "> 정확도(accuracy)가 높아도 데이터 갯수가 적은 class의 재현율(recall-rate)이 급격히 작아지는 현상이 발생함."
   ]
  },
  {
   "cell_type": "code",
   "execution_count": null,
   "id": "3c04fb2f",
   "metadata": {},
   "outputs": [],
   "source": [
    "def classification_result(n0, n1, title=\"\"):\n",
    "    rv1 = sp.stats.multivariate_normal([-1, 0], [[1, 0], [0, 1]])\n",
    "    rv2 = sp.stats.multivariate_normal([+1, 0], [[1, 0], [0, 1]])\n",
    "    X0 = rv1.rvs(n0, random_state=0)\n",
    "    X1 = rv2.rvs(n1, random_state=0)\n",
    "    X = np.vstack([X0, X1])\n",
    "    y = np.hstack([np.zeros(n0), np.ones(n1)])\n",
    "\n",
    "    x1min = -4; x1max = 4\n",
    "    x2min = -2; x2max = 2\n",
    "    xx1 = np.linspace(x1min, x1max, 1000)\n",
    "    xx2 = np.linspace(x2min, x2max, 1000)\n",
    "    X1, X2 = np.meshgrid(xx1, xx2) # 격자 만들기\n",
    "\n",
    "    plt.contour(X1, X2, rv1.pdf(np.dstack([X1, X2])), levels=[0.05], linestyles=\"dashed\")\n",
    "    plt.contour(X1, X2, rv2.pdf(np.dstack([X1, X2])), levels=[0.05], linestyles=\"dashed\")\n",
    "\n",
    "    model = SVC(kernel=\"linear\", C=1e4, random_state=0).fit(X, y)\n",
    "    Y = np.reshape(model.predict(np.array([X1.ravel(), X2.ravel()]).T), X1.shape) # ravel: 다차원 배열 1차원 변경\n",
    "    plt.scatter(X[y == 0, 0], X[y == 0, 1], marker='o', label=\"0 클래스\")\n",
    "    plt.scatter(X[y == 1, 0], X[y == 1, 1], marker='o', label=\"1 클래스\")\n",
    "    plt.contour(X1, X2, Y, colors='k', levels=[0.5])\n",
    "    y_pred = model.predict(X)\n",
    "    plt.xlim(-4, 4)\n",
    "    plt.ylim(-3, 3)\n",
    "    plt.xlabel(\"x1\")\n",
    "    plt.ylabel(\"x2\")\n",
    "    plt.title(title)\n",
    "    \n",
    "    return model, X, y, y_pred\n",
    "\n",
    "plt.figure(figsize=(12,6))\n",
    "plt.subplot(121)\n",
    "model1, X1, y1, y_pred1 = classification_result(200, 200, \"balanced data (5:5)\")\n",
    "plt.subplot(122)\n",
    "model2, X2, y2, y_pred2 = classification_result(200, 20, \"imbalanced data (9:1)\")\n",
    "plt.tight_layout()\n",
    "\n",
    "plt.show()"
   ]
  },
  {
   "cell_type": "code",
   "execution_count": null,
   "id": "b3a78cfe-a7a0-40b5-a633-6c6e66fff7ff",
   "metadata": {},
   "outputs": [],
   "source": [
    "print(classification_report(y1, y_pred1))\n",
    "print(classification_report(y2, y_pred2))"
   ]
  },
  {
   "cell_type": "markdown",
   "id": "a97e5410-effb-42ce-9f9d-1aa04cd258a0",
   "metadata": {},
   "source": [
    "### Sampling Example"
   ]
  },
  {
   "cell_type": "code",
   "execution_count": null,
   "id": "db8bfa54-0784-4e44-81df-943e199fc377",
   "metadata": {},
   "outputs": [],
   "source": [
    "n0 = 200; n1 = 20\n",
    "rv1 = sp.stats.multivariate_normal([-1, 0], [[1, 0], [0, 1]])\n",
    "rv2 = sp.stats.multivariate_normal([+1, 0], [[1, 0], [0, 1]])\n",
    "X0 = rv1.rvs(n0, random_state=0)\n",
    "X1 = rv2.rvs(n1, random_state=0)\n",
    "X_imb = np.vstack([X0, X1])\n",
    "y_imb = np.hstack([np.zeros(n0), np.ones(n1)])\n",
    "\n",
    "x1min = -4; x1max = 4\n",
    "x2min = -2; x2max = 2\n",
    "xx1 = np.linspace(x1min, x1max, 1000)\n",
    "xx2 = np.linspace(x2min, x2max, 1000)\n",
    "X1, X2 = np.meshgrid(xx1, xx2)\n",
    "\n",
    "def classification_result2(X, y, title=\"\"):\n",
    "    plt.contour(X1, X2, rv1.pdf(np.dstack([X1, X2])), levels=[0.05], linestyles=\"dashed\")\n",
    "    plt.contour(X1, X2, rv2.pdf(np.dstack([X1, X2])), levels=[0.05], linestyles=\"dashed\")\n",
    "    model = SVC(kernel=\"linear\", C=1e4, random_state=0).fit(X, y)\n",
    "    Y = np.reshape(model.predict(np.array([X1.ravel(), X2.ravel()]).T), X1.shape)\n",
    "    plt.scatter(X[y == 0, 0], X[y == 0, 1], marker='o', label=\"0 클래스\")\n",
    "    plt.scatter(X[y == 1, 0], X[y == 1, 1], marker='o', label=\"1 클래스\")\n",
    "    plt.contour(X1, X2, Y, colors='k', levels=[0.5])\n",
    "    y_pred = model.predict(X)\n",
    "    plt.xlim(-4, 4)\n",
    "    plt.ylim(-3, 3)\n",
    "    plt.xlabel(\"x1\")\n",
    "    plt.ylabel(\"x2\")\n",
    "    plt.title(title)\n",
    "    return model"
   ]
  },
  {
   "cell_type": "markdown",
   "id": "705ed3f5-c509-4d18-ac34-e3105ec0eff5",
   "metadata": {},
   "source": [
    "Under or Over Sampling을 사용하여 데이터 비율을 맞추면 정밀도(precision)가 향상됨."
   ]
  },
  {
   "cell_type": "markdown",
   "id": "5ef6481d-6690-4c7e-b246-5f8e0ba78827",
   "metadata": {},
   "source": [
    "## 3. Under Sampling"
   ]
  },
  {
   "cell_type": "markdown",
   "id": "e5c12ac9-a2cf-4945-be00-96ea30c4c228",
   "metadata": {},
   "source": [
    "### 3.1 Random Under-Sampler\n",
    ">무작위로 데이터를 없애는 단순 샘플링"
   ]
  },
  {
   "cell_type": "code",
   "execution_count": null,
   "id": "28175292-07cb-4d73-8b55-f7fe135a1d0d",
   "metadata": {},
   "outputs": [],
   "source": [
    "X_samp, y_samp = RandomUnderSampler(random_state=0).fit_resample(X_imb, y_imb)\n",
    "\n",
    "plt.subplot(121)\n",
    "model = classification_result2(X_imb, y_imb)\n",
    "plt.subplot(122)\n",
    "model_samp = classification_result2(X_samp, y_samp)"
   ]
  },
  {
   "cell_type": "code",
   "execution_count": null,
   "id": "fadd944b-a072-4a31-ad4e-33aea7af2439",
   "metadata": {},
   "outputs": [],
   "source": [
    "print(classification_report(y_imb, model.predict(X_imb)))\n",
    "print(classification_report(y_samp, model_samp.predict(X_samp)))"
   ]
  },
  {
   "cell_type": "markdown",
   "id": "61eae6f5-7a6d-40c7-9505-b0d237f0b1db",
   "metadata": {},
   "source": [
    "### 3.2 Tomek's link method\n",
    ">토멕링크(Tomek’s link)란 서로 다른 클래스에 속하는 한 쌍의 데이터 (x+,x−)를 의미 (서로에게 더 가까운 다른 데이터가 존재하지 않는 것)\n",
    "\n",
    ">클래스가 다른 두 데이터가 아주 가까이 붙어있으면 토멕링크가 됨\n",
    "\n",
    ">토멕링크를 찾은 다음 그 중에서 다수 클래스에 속하는 데이터를 제외함으로써 경계선을 다수 클래스쪽으로 밀어붙이는 방식으로 진행됨\n",
    "\n",
    "> 바운더리 근처의 majority가 지워짐"
   ]
  },
  {
   "cell_type": "code",
   "execution_count": null,
   "id": "ab703a8a-df33-4b35-a2bb-6f610f187cf4",
   "metadata": {},
   "outputs": [],
   "source": [
    "X_samp, y_samp = TomekLinks().fit_resample(X_imb, y_imb)\n",
    "\n",
    "plt.subplot(121)\n",
    "classification_result2(X_imb, y_imb)\n",
    "plt.subplot(122)\n",
    "model_samp = classification_result2(X_samp, y_samp)"
   ]
  },
  {
   "cell_type": "code",
   "execution_count": null,
   "id": "c01102c9-19a2-4c21-acee-6f39453aa50f",
   "metadata": {},
   "outputs": [],
   "source": [
    "print(classification_report(y_imb, model.predict(X_imb)))\n",
    "print(classification_report(y_samp, model_samp.predict(X_samp)))"
   ]
  },
  {
   "cell_type": "markdown",
   "id": "51b4a5a2-618f-4d01-9ae5-2e5049d5f6e5",
   "metadata": {},
   "source": [
    "### 3.3 Condensed Nearest Neighbour\n",
    "> CNN(Condensed Nearest Neighbour) 방법은 1-NN 모형으로 분류되지 않는 데이터만 남기는 방법 \n",
    " >> 선텍된 데이터 집합을 S 라고 하면, 소수 클래스 데이터를 모두 S 에 포함시킴\n",
    " \n",
    " >> 다수 데이터 중에서 하나를 골라서 가장 가까운 데이터가 다수 클래스이면 포함시키지 않고 아니면  S 에 포함시킴\n",
    " \n",
    " >> 더이상 선택되는 데이터가 없을 때까지 2를 반복\n",
    "    \n",
    "> 이 방법을 사용하면 기존에 선택된 데이터와 가까이 있으면서 같은 클래스인 데이터는 선택되지 않기 때문에 다수 데이터의 경우 선택되는 비율이 적어짐"
   ]
  },
  {
   "cell_type": "code",
   "execution_count": null,
   "id": "13385d25-c12c-4a7e-96d7-b75927a61db6",
   "metadata": {},
   "outputs": [],
   "source": [
    "X_samp, y_samp = CondensedNearestNeighbour(random_state=0).fit_resample(X_imb, y_imb)\n",
    "\n",
    "plt.subplot(121)\n",
    "classification_result2(X_imb, y_imb)\n",
    "plt.subplot(122)\n",
    "model_samp = classification_result2(X_samp, y_samp)"
   ]
  },
  {
   "cell_type": "code",
   "execution_count": null,
   "id": "cdac4f4c-48cd-47c8-be22-3e073b3b4c88",
   "metadata": {},
   "outputs": [],
   "source": [
    "print(classification_report(y_imb, model.predict(X_imb)))\n",
    "print(classification_report(y_samp, model_samp.predict(X_samp)))"
   ]
  },
  {
   "cell_type": "markdown",
   "id": "a4255678-961f-4406-b8c9-4a0894d06ce4",
   "metadata": {},
   "source": [
    "### 3.4 One Sided Selection\n",
    "> One Sided Selection은 토맥링크 방법과 Condensed Nearest Neighbour 방법을 섞은 것\n",
    "\n",
    "> 토맥링크 중 다수 클래스를 제외하고 나머지 데이터 중에서도 서로 붙어있는 다수 클래스 데이터는 1-NN 방법으로 제외"
   ]
  },
  {
   "cell_type": "code",
   "execution_count": null,
   "id": "c33dd383-9894-4a10-9dfb-3bea96402b44",
   "metadata": {},
   "outputs": [],
   "source": [
    "X_samp, y_samp = OneSidedSelection(random_state=0).fit_resample(X_imb, y_imb)\n",
    "\n",
    "plt.subplot(121)\n",
    "classification_result2(X_imb, y_imb)\n",
    "plt.subplot(122)\n",
    "model_samp = classification_result2(X_samp, y_samp)"
   ]
  },
  {
   "cell_type": "code",
   "execution_count": null,
   "id": "44f0f2ec-8158-4b58-a99a-8d09bcd66b7d",
   "metadata": {},
   "outputs": [],
   "source": [
    "print(classification_report(y_imb, model.predict(X_imb)))\n",
    "print(classification_report(y_samp, model_samp.predict(X_samp)))"
   ]
  },
  {
   "cell_type": "markdown",
   "id": "bd6a639b-bb7e-44c8-a75b-dca8ee303c80",
   "metadata": {},
   "source": [
    "## 4. Over Sampling"
   ]
  },
  {
   "cell_type": "markdown",
   "id": "f27cc113-f2f6-406e-a740-68f4a6c41b84",
   "metadata": {},
   "source": [
    "### 4.1 RandomOverSampler\n",
    "> Random Over Sampling은 소수 클래스의 데이터를 반복해서 넣는 것(replacement)\n",
    "\n",
    "> 가중치를 증가시키는 것과 비슷"
   ]
  },
  {
   "cell_type": "code",
   "execution_count": null,
   "id": "2510e52e-455b-46d5-b753-e03f3d2ddade",
   "metadata": {},
   "outputs": [],
   "source": [
    "X_samp, y_samp = RandomOverSampler(random_state=0).fit_resample(X_imb, y_imb)\n",
    "\n",
    "plt.subplot(121)\n",
    "classification_result2(X_imb, y_imb)\n",
    "plt.subplot(122)\n",
    "model_samp = classification_result2(X_samp, y_samp)"
   ]
  },
  {
   "cell_type": "code",
   "execution_count": null,
   "id": "faebac08-e79c-4fe0-9127-6bd6182e3ab6",
   "metadata": {},
   "outputs": [],
   "source": [
    "print(classification_report(y_imb, model.predict(X_imb)))\n",
    "print(classification_report(y_samp, model_samp.predict(X_samp)))"
   ]
  },
  {
   "cell_type": "markdown",
   "id": "0b4b3caf-296b-47a8-9764-861e7d8b75b7",
   "metadata": {},
   "source": [
    "### 4.2 ADASYN\n",
    "> ADASYN(Adaptive Synthetic Sampling) 방법은 소수 클래스 데이터와 그 데이터에서 가장 가까운 k개의 소수 클래스 데이터 중 무작위로 선택된 데이터 사이의 직선상에 가상의 소수 클래스 데이터를 만드는 방법"
   ]
  },
  {
   "cell_type": "code",
   "execution_count": null,
   "id": "7db110bb-13ab-4017-b085-e6ba9649ed13",
   "metadata": {},
   "outputs": [],
   "source": [
    "X_samp, y_samp = ADASYN(random_state=0).fit_resample(X_imb, y_imb)\n",
    "\n",
    "plt.subplot(121)\n",
    "classification_result2(X_imb, y_imb)\n",
    "plt.subplot(122)\n",
    "model_samp = classification_result2(X_samp, y_samp)"
   ]
  },
  {
   "cell_type": "code",
   "execution_count": null,
   "id": "01b013d7-eca2-4415-afba-64d9ced317fb",
   "metadata": {},
   "outputs": [],
   "source": [
    "print(classification_report(y_imb, model.predict(X_imb)))\n",
    "print(classification_report(y_samp, model_samp.predict(X_samp)))"
   ]
  },
  {
   "cell_type": "markdown",
   "id": "db698e63-7df3-426a-a6ae-b6e36be23add",
   "metadata": {},
   "source": [
    "### 4.3 SMOTE\n",
    "> SMOTE(Synthetic Minority Over-sampling Technique) 방법도 ADASYN 방법처럼 데이터를 생성하지만 생성된 데이터를 무조건 소수 클래스라고 하지 않고 분류 모형에 따라 분류함"
   ]
  },
  {
   "cell_type": "code",
   "execution_count": null,
   "id": "577de22d-267b-4d9d-93b9-338ad4ccd9a6",
   "metadata": {},
   "outputs": [],
   "source": [
    "X_samp, y_samp = SMOTE(random_state=4).fit_resample(X_imb, y_imb)\n",
    "\n",
    "plt.subplot(121)\n",
    "classification_result2(X_imb, y_imb)\n",
    "plt.subplot(122)\n",
    "model_samp = classification_result2(X_samp, y_samp)"
   ]
  },
  {
   "cell_type": "code",
   "execution_count": null,
   "id": "f1a43cc8-d5fd-4fc9-8722-e0a31f72536c",
   "metadata": {},
   "outputs": [],
   "source": [
    "print(classification_report(y_imb, model.predict(X_imb)))\n",
    "print(classification_report(y_samp, model_samp.predict(X_samp)))"
   ]
  },
  {
   "cell_type": "markdown",
   "id": "b12f83fc-8e53-449c-a086-41957beee6e9",
   "metadata": {},
   "source": [
    "## 5. Time Series Oversampling"
   ]
  },
  {
   "cell_type": "code",
   "execution_count": null,
   "id": "a249ea26-1879-4622-a5ef-886dcbfb4419",
   "metadata": {},
   "outputs": [],
   "source": [
    "train_data = pd.read_table('/content/LG_time_series_day16/data/Wafer_TRAIN.tsv', header=None)\n",
    "test_data = pd.read_table('/content/LG_time_series_day16/data/Wafer_TEST.tsv', header=None)\n",
    "\n",
    "# train_data = pd.read_table(\"./data/Wafer_TRAIN.tsv\", header=None) # 로컬\n",
    "# test_data = pd.read_table(\"./data/Wafer_TEST.tsv\", header=None) # 로컬\n",
    "\n",
    "train_X = np.array(train_data.iloc[:, 1:]) # label 제외\n",
    "test_X = np.array(test_data.iloc[:, 1:]) # label 제외\n",
    "\n",
    "train_y = np.array(train_data[0].apply(lambda x: 0 if x == 1 else 1)) # label만\n",
    "test_y = np.array(test_data[0].apply(lambda x : 0 if x == 1 else 1)) # label만\n",
    "\n",
    "train_X_max = np.max(train_X) # 데이터의 최대값\n",
    "train_X_min = np.min(train_X) # 데이터의 최소값\n",
    "\n",
    "# min-max normalization\n",
    "train_X = 2. * (train_X - train_X_min) / (train_X_max - train_X_min) - 1. \n",
    "test_X = 2. * (test_X - train_X_min) / (train_X_max - train_X_min) - 1.\n",
    "\n",
    "# (data size, data length) -> (data size, data length, data dimension)\n",
    "train_X = train_X.reshape(np.shape(train_X)[0], np.shape(train_X)[1], -1)"
   ]
  },
  {
   "cell_type": "markdown",
   "id": "26582460-a4c9-45c3-b6c7-ba4fe3da6c3d",
   "metadata": {},
   "source": [
    "### 정상 데이터"
   ]
  },
  {
   "cell_type": "code",
   "execution_count": null,
   "id": "ad07ba85-f90b-47e7-9399-f8eab700f1ac",
   "metadata": {},
   "outputs": [],
   "source": [
    "l = np.where(train_y == 0)[0] # train_y가 0인 것의 위치를 가져옴\n",
    "np.random.shuffle(l)\n",
    "for i in l[:3]:\n",
    "    fig = plt.figure(figsize=(10, 4))\n",
    "    fig = plt.plot(train_X[i],color='grey')\n",
    "    fig = plt.title(f\"Data Index : {i}, Class : Normal\")\n",
    "    fig = plt.xticks([])\n",
    "    plt.show()"
   ]
  },
  {
   "cell_type": "markdown",
   "id": "ac0d2387-be17-4d99-8e8a-aa1c2985b77e",
   "metadata": {},
   "source": [
    "### 비정상 데이터"
   ]
  },
  {
   "cell_type": "code",
   "execution_count": null,
   "id": "8cc76e79-5d2c-4ac6-ab7b-bfbec15bb4c4",
   "metadata": {},
   "outputs": [],
   "source": [
    "l = np.where(train_y == 1)[0] # train_y가 1인 것의 위치를 가져옴\n",
    "np.random.shuffle(l)\n",
    "for i in l[:3]:\n",
    "    fig = plt.figure(figsize=(10,4))\n",
    "    fig = plt.plot(train_X[i],color='grey')\n",
    "    fig = plt.title(f\"Data Index : {i}, Class : Anomaly\")\n",
    "    fig = plt.xticks([])\n",
    "    plt.show()"
   ]
  },
  {
   "cell_type": "code",
   "execution_count": null,
   "id": "d711f2f7-3461-45dd-a6dc-7fbdb8396671",
   "metadata": {},
   "outputs": [],
   "source": [
    "\"\"\" 시각화 \"\"\"\n",
    "\n",
    "def plot1d(x, x2, ylim=(-1, 1)):\n",
    "    plt.figure(figsize=(6, 3))\n",
    "    steps = np.arange(x.shape[0])\n",
    "    plt.plot(steps, x)\n",
    "    plt.plot(steps, x2)\n",
    "    plt.xlim(0, x.shape[0])\n",
    "    plt.ylim(ylim)\n",
    "    plt.tight_layout()\n",
    "    plt.show()\n",
    "    return"
   ]
  },
  {
   "cell_type": "code",
   "execution_count": null,
   "id": "114825d1-00de-4922-85ac-e0475cf74f91",
   "metadata": {},
   "outputs": [],
   "source": [
    "\"\"\" Augmentation \"\"\"\n",
    "\n",
    "class Augmentation:\n",
    "    def jitter(x, sigma=0.03):\n",
    "        # 시계열에 noise를 추가합니다.\n",
    "        return x + np.random.normal(loc=0., scale=sigma, size=x.shape)\n",
    "\n",
    "    def scaling(x, sigma=0.2):\n",
    "        # 시계열을 무작위 상수만큼 움직입니다.\n",
    "        factor = np.random.normal(loc=1., scale=sigma, size=(x.shape[0],x.shape[2]))\n",
    "        return np.multiply(x, factor[:,np.newaxis,:])\n",
    "\n",
    "    def rotation(x):\n",
    "        # 시계열을 무작위로 회전시킵니다.\n",
    "        flip = np.random.choice([-1, 1], size=(x.shape[0],x.shape[2]))\n",
    "        rotate_axis = np.arange(x.shape[2])\n",
    "        np.random.shuffle(rotate_axis)    \n",
    "        return flip[:,np.newaxis,:] * x[:,:,rotate_axis]\n",
    "\n",
    "    def permutation(x, max_segments=5, seg_mode=\"equal\"):\n",
    "        # 시계열을 부분으로 나누고, 뒤섞습니다.\n",
    "        orig_steps = np.arange(x.shape[1])\n",
    "\n",
    "        num_segs = np.random.randint(1, max_segments, size=(x.shape[0]))\n",
    "\n",
    "        ret = np.zeros_like(x)\n",
    "        for i, pat in enumerate(x):\n",
    "            if num_segs[i] > 1:\n",
    "                if seg_mode == \"random\":\n",
    "                    split_points = np.random.choice(x.shape[1]-2, num_segs[i]-1, replace=False)\n",
    "                    split_points.sort()\n",
    "                    splits = np.split(orig_steps, split_points)\n",
    "                else:\n",
    "                    splits = np.array_split(orig_steps, num_segs[i])\n",
    "                warp = np.concatenate(np.random.permutation(splits)).ravel()\n",
    "                ret[i] = pat[warp]\n",
    "            else:\n",
    "                ret[i] = pat\n",
    "        return ret\n",
    "\n",
    "    def magnitude_warp(x, sigma=0.2, knot=4):\n",
    "        # 설정된 수의 매듭으로 큐빅 스플라인에 의해 생성된 곡선으로 곱합니다.\n",
    "        from scipy.interpolate import CubicSpline #  주어진 점을 매끄럽게 연결하는 알고리즘\n",
    "        orig_steps = np.arange(x.shape[1])\n",
    "\n",
    "        random_warps = np.random.normal(loc=1.0, scale=sigma, size=(x.shape[0], knot+2, x.shape[2]))\n",
    "        warp_steps = (np.ones((x.shape[2],1))*(np.linspace(0, x.shape[1]-1., num=knot+2))).T\n",
    "        ret = np.zeros_like(x)\n",
    "        for i, pat in enumerate(x):\n",
    "            warper = np.array([CubicSpline(warp_steps[:,dim], random_warps[i,:,dim])(orig_steps) for dim in range(x.shape[2])]).T\n",
    "            ret[i] = pat * warper\n",
    "\n",
    "        return ret"
   ]
  },
  {
   "cell_type": "code",
   "execution_count": null,
   "id": "b65255e7-432f-4b27-b5ef-7f457a3ac97a",
   "metadata": {},
   "outputs": [],
   "source": [
    "plot1d(train_X[0], Augmentation.jitter(train_X)[0])"
   ]
  },
  {
   "cell_type": "code",
   "execution_count": null,
   "id": "f71e426d-0b30-4095-8f07-0ca93db125b4",
   "metadata": {},
   "outputs": [],
   "source": [
    "plot1d(train_X[0], Augmentation.scaling(train_X)[0])"
   ]
  },
  {
   "cell_type": "code",
   "execution_count": null,
   "id": "00f8c8ec-da53-4d16-960c-7cf43fe931a7",
   "metadata": {},
   "outputs": [],
   "source": [
    "plot1d(train_X[0], Augmentation.rotation(train_X)[0])"
   ]
  },
  {
   "cell_type": "code",
   "execution_count": null,
   "id": "1339cc21-c41b-49a8-a42d-e3101566bc36",
   "metadata": {},
   "outputs": [],
   "source": [
    "plot1d(train_X[0], Augmentation.permutation(train_X)[0])"
   ]
  },
  {
   "cell_type": "code",
   "execution_count": null,
   "id": "620233b1-bbbc-4b60-b864-c29789b94f19",
   "metadata": {},
   "outputs": [],
   "source": [
    "plot1d(train_X[0], Augmentation.magnitude_warp(train_X)[0])"
   ]
  },
  {
   "cell_type": "markdown",
   "id": "fd71be2a-c200-466a-8646-e2a03487a090",
   "metadata": {},
   "source": [
    "### Augmentation 된 데이터셋 만들기"
   ]
  },
  {
   "cell_type": "code",
   "execution_count": null,
   "id": "2c6cfab4-063f-4abb-a7f0-d2542ae80754",
   "metadata": {},
   "outputs": [],
   "source": [
    "train_X_jitter = Augmentation.jitter(train_X)\n",
    "train_X_scailing = Augmentation.scaling(train_X)\n",
    "train_X_rotation = Augmentation.rotation(train_X)\n",
    "train_X_permutation = Augmentation.permutation(train_X)\n",
    "train_X_magnitude_warp = Augmentation.magnitude_warp(train_X)"
   ]
  },
  {
   "cell_type": "code",
   "execution_count": null,
   "id": "e41f0bcd-dd86-4440-a548-9e9b522fa56d",
   "metadata": {},
   "outputs": [],
   "source": [
    "aug_train_X = np.concatenate([train_X, train_X_jitter, train_X_scailing, train_X_rotation, train_X_permutation, train_X_magnitude_warp])"
   ]
  },
  {
   "cell_type": "code",
   "execution_count": null,
   "id": "daf534d7-1aa7-4715-8332-155096f7351a",
   "metadata": {},
   "outputs": [],
   "source": [
    "print(\"original data size : \" + str(train_X.shape))\n",
    "print(\"augmented data size : \" + str(aug_train_X.shape))"
   ]
  },
  {
   "cell_type": "markdown",
   "id": "f8ee4990-ce15-402f-b124-78819193efe9",
   "metadata": {},
   "source": [
    "---"
   ]
  }
 ],
 "metadata": {
  "kernelspec": {
   "display_name": "ttest",
   "language": "python",
   "name": "ttest"
  },
  "language_info": {
   "codemirror_mode": {
    "name": "ipython",
    "version": 3
   },
   "file_extension": ".py",
   "mimetype": "text/x-python",
   "name": "python",
   "nbconvert_exporter": "python",
   "pygments_lexer": "ipython3",
   "version": "3.7.11"
  }
 },
 "nbformat": 4,
 "nbformat_minor": 5
}
